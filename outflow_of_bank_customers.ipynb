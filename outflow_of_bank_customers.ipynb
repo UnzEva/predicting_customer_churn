{
 "cells": [
  {
   "cell_type": "markdown",
   "id": "75a59e38",
   "metadata": {},
   "source": [
    "# Prediction of outflow of bank customers.\n",
    "Beta Bank customers are leaving: little by little, chipping away every month. The bankers figured out it’s cheaper to save the existing customers rather than to attract new ones. We need to predict whether a customer will leave the bank soon.\n",
    "\n",
    "## Task Statement.\n",
    "Predict if a customer will leave the bankPredict if a customer will leave the bank.\n",
    "\n",
    "##  The goal.\n",
    "- Build a model with the maximum possible F1 score. \n",
    "- The F1 score should be at least 0.59. \n",
    "- Check the F1 value for the test set.\n",
    "- Measure the AUC-ROC metric.\n",
    "- Compare the AUC-ROC metric with the F1 metric.\n",
    "\n",
    "## Data description.\n",
    "\n",
    "Data on the behavior of customers and cancellation of contracts with the bank are presented.\n",
    "\n",
    "https://www.kaggle.com/barelydedicated/bank-customer-churn-modeling\n",
    "\n",
    "<b>Features</b>\n",
    "\n",
    "- `RowNumber` — data string index\n",
    "- `CustomerId` — unique customer identifier\n",
    "- `Surname` — surname\n",
    "- `CreditScore` — credit score\n",
    "- `Geography` — country of residence\n",
    "- `Gender` — gender\n",
    "- `Age` — age\n",
    "- `Tenure` — period of maturation for a customer’s fixed deposit (years)\n",
    "- `Balance` — account balance\n",
    "- `NumOfProducts` — number of banking products used by the customer\n",
    "- `HasCrCard` — customer has a credit card\n",
    "- `IsActiveMember` — customer’s activeness\n",
    "- `EstimatedSalary` — estimated salary\n",
    "\n",
    "<b>Target</b>\n",
    "\n",
    "- `Exited` — сustomer has left\n",
    "\n",
    "## Overall Plan.\n",
    "\n",
    "1. Download and prepare the data\n",
    "2. Download and prepare the data\n",
    "3. Feature Preparation\n",
    "4. Examine the balance of classes\n",
    "5. Fixing class imbalance\n",
    "6. Build and test the best identified model\n",
    "7. General conclusion\n"
   ]
  },
  {
   "cell_type": "markdown",
   "id": "ff0f9013",
   "metadata": {},
   "source": [
    "## Libraries"
   ]
  },
  {
   "cell_type": "code",
   "execution_count": 1,
   "id": "66aeb1f8",
   "metadata": {},
   "outputs": [],
   "source": [
    "# Loading all the libraries\n",
    "import pandas as pd\n",
    "import numpy as np\n",
    "import seaborn as sns\n",
    "from sklearn.preprocessing import OrdinalEncoder \n",
    "from sklearn.preprocessing import StandardScaler\n",
    "from sklearn.metrics import accuracy_score\n",
    "from sklearn.metrics import mean_squared_error\n",
    "from sklearn.metrics import confusion_matrix\n",
    "from sklearn.metrics import recall_score\n",
    "from sklearn.metrics import precision_score\n",
    "from sklearn.metrics import f1_score\n",
    "from sklearn.metrics import r2_score\n",
    "from sklearn.metrics import mean_absolute_error\n",
    "from sklearn.metrics import precision_recall_curve\n",
    "from sklearn.metrics import roc_auc_score\n",
    "from sklearn.metrics import roc_curve \n",
    "from sklearn.model_selection import train_test_split \n",
    "from sklearn.tree import DecisionTreeClassifier \n",
    "from sklearn.ensemble import RandomForestClassifier \n",
    "from sklearn.linear_model import LogisticRegression \n",
    "from sklearn.utils import shuffle\n",
    "from matplotlib import pyplot as plt\n",
    "import warnings"
   ]
  },
  {
   "cell_type": "markdown",
   "id": "af9631fb",
   "metadata": {},
   "source": [
    "## Reading and first look at the data."
   ]
  },
  {
   "cell_type": "code",
   "execution_count": 2,
   "id": "f33f3a53",
   "metadata": {},
   "outputs": [],
   "source": [
    "# to try to open a data file\n",
    "try:\n",
    "    data = pd.read_csv('Churn.csv')\n",
    "except:\n",
    "    print('Unable to open the file')"
   ]
  },
  {
   "cell_type": "code",
   "execution_count": 3,
   "id": "51287d9b",
   "metadata": {},
   "outputs": [
    {
     "name": "stdout",
     "output_type": "stream",
     "text": [
      "<class 'pandas.core.frame.DataFrame'>\n",
      "RangeIndex: 10000 entries, 0 to 9999\n",
      "Data columns (total 14 columns):\n",
      " #   Column           Non-Null Count  Dtype  \n",
      "---  ------           --------------  -----  \n",
      " 0   RowNumber        10000 non-null  int64  \n",
      " 1   CustomerId       10000 non-null  int64  \n",
      " 2   Surname          10000 non-null  object \n",
      " 3   CreditScore      10000 non-null  int64  \n",
      " 4   Geography        10000 non-null  object \n",
      " 5   Gender           10000 non-null  object \n",
      " 6   Age              10000 non-null  int64  \n",
      " 7   Tenure           9091 non-null   float64\n",
      " 8   Balance          10000 non-null  float64\n",
      " 9   NumOfProducts    10000 non-null  int64  \n",
      " 10  HasCrCard        10000 non-null  int64  \n",
      " 11  IsActiveMember   10000 non-null  int64  \n",
      " 12  EstimatedSalary  10000 non-null  float64\n",
      " 13  Exited           10000 non-null  int64  \n",
      "dtypes: float64(3), int64(8), object(3)\n",
      "memory usage: 1.1+ MB\n"
     ]
    }
   ],
   "source": [
    "# description of the table data\n",
    "#print(data.describe())\n",
    "data.info()"
   ]
  },
  {
   "cell_type": "code",
   "execution_count": 4,
   "id": "12d82795",
   "metadata": {},
   "outputs": [
    {
     "data": {
      "text/html": [
       "<div>\n",
       "<style scoped>\n",
       "    .dataframe tbody tr th:only-of-type {\n",
       "        vertical-align: middle;\n",
       "    }\n",
       "\n",
       "    .dataframe tbody tr th {\n",
       "        vertical-align: top;\n",
       "    }\n",
       "\n",
       "    .dataframe thead th {\n",
       "        text-align: right;\n",
       "    }\n",
       "</style>\n",
       "<table border=\"1\" class=\"dataframe\">\n",
       "  <thead>\n",
       "    <tr style=\"text-align: right;\">\n",
       "      <th></th>\n",
       "      <th>RowNumber</th>\n",
       "      <th>CustomerId</th>\n",
       "      <th>Surname</th>\n",
       "      <th>CreditScore</th>\n",
       "      <th>Geography</th>\n",
       "      <th>Gender</th>\n",
       "      <th>Age</th>\n",
       "      <th>Tenure</th>\n",
       "      <th>Balance</th>\n",
       "      <th>NumOfProducts</th>\n",
       "      <th>HasCrCard</th>\n",
       "      <th>IsActiveMember</th>\n",
       "      <th>EstimatedSalary</th>\n",
       "      <th>Exited</th>\n",
       "    </tr>\n",
       "  </thead>\n",
       "  <tbody>\n",
       "    <tr>\n",
       "      <th>0</th>\n",
       "      <td>1</td>\n",
       "      <td>15634602</td>\n",
       "      <td>Hargrave</td>\n",
       "      <td>619</td>\n",
       "      <td>France</td>\n",
       "      <td>Female</td>\n",
       "      <td>42</td>\n",
       "      <td>2.0</td>\n",
       "      <td>0.00</td>\n",
       "      <td>1</td>\n",
       "      <td>1</td>\n",
       "      <td>1</td>\n",
       "      <td>101348.88</td>\n",
       "      <td>1</td>\n",
       "    </tr>\n",
       "    <tr>\n",
       "      <th>1</th>\n",
       "      <td>2</td>\n",
       "      <td>15647311</td>\n",
       "      <td>Hill</td>\n",
       "      <td>608</td>\n",
       "      <td>Spain</td>\n",
       "      <td>Female</td>\n",
       "      <td>41</td>\n",
       "      <td>1.0</td>\n",
       "      <td>83807.86</td>\n",
       "      <td>1</td>\n",
       "      <td>0</td>\n",
       "      <td>1</td>\n",
       "      <td>112542.58</td>\n",
       "      <td>0</td>\n",
       "    </tr>\n",
       "    <tr>\n",
       "      <th>2</th>\n",
       "      <td>3</td>\n",
       "      <td>15619304</td>\n",
       "      <td>Onio</td>\n",
       "      <td>502</td>\n",
       "      <td>France</td>\n",
       "      <td>Female</td>\n",
       "      <td>42</td>\n",
       "      <td>8.0</td>\n",
       "      <td>159660.80</td>\n",
       "      <td>3</td>\n",
       "      <td>1</td>\n",
       "      <td>0</td>\n",
       "      <td>113931.57</td>\n",
       "      <td>1</td>\n",
       "    </tr>\n",
       "    <tr>\n",
       "      <th>3</th>\n",
       "      <td>4</td>\n",
       "      <td>15701354</td>\n",
       "      <td>Boni</td>\n",
       "      <td>699</td>\n",
       "      <td>France</td>\n",
       "      <td>Female</td>\n",
       "      <td>39</td>\n",
       "      <td>1.0</td>\n",
       "      <td>0.00</td>\n",
       "      <td>2</td>\n",
       "      <td>0</td>\n",
       "      <td>0</td>\n",
       "      <td>93826.63</td>\n",
       "      <td>0</td>\n",
       "    </tr>\n",
       "    <tr>\n",
       "      <th>4</th>\n",
       "      <td>5</td>\n",
       "      <td>15737888</td>\n",
       "      <td>Mitchell</td>\n",
       "      <td>850</td>\n",
       "      <td>Spain</td>\n",
       "      <td>Female</td>\n",
       "      <td>43</td>\n",
       "      <td>2.0</td>\n",
       "      <td>125510.82</td>\n",
       "      <td>1</td>\n",
       "      <td>1</td>\n",
       "      <td>1</td>\n",
       "      <td>79084.10</td>\n",
       "      <td>0</td>\n",
       "    </tr>\n",
       "  </tbody>\n",
       "</table>\n",
       "</div>"
      ],
      "text/plain": [
       "   RowNumber  CustomerId   Surname  CreditScore Geography  Gender  Age  \\\n",
       "0          1    15634602  Hargrave          619    France  Female   42   \n",
       "1          2    15647311      Hill          608     Spain  Female   41   \n",
       "2          3    15619304      Onio          502    France  Female   42   \n",
       "3          4    15701354      Boni          699    France  Female   39   \n",
       "4          5    15737888  Mitchell          850     Spain  Female   43   \n",
       "\n",
       "   Tenure    Balance  NumOfProducts  HasCrCard  IsActiveMember  \\\n",
       "0     2.0       0.00              1          1               1   \n",
       "1     1.0   83807.86              1          0               1   \n",
       "2     8.0  159660.80              3          1               0   \n",
       "3     1.0       0.00              2          0               0   \n",
       "4     2.0  125510.82              1          1               1   \n",
       "\n",
       "   EstimatedSalary  Exited  \n",
       "0        101348.88       1  \n",
       "1        112542.58       0  \n",
       "2        113931.57       1  \n",
       "3         93826.63       0  \n",
       "4         79084.10       0  "
      ]
     },
     "execution_count": 4,
     "metadata": {},
     "output_type": "execute_result"
    }
   ],
   "source": [
    "data.head()"
   ]
  },
  {
   "cell_type": "code",
   "execution_count": 5,
   "id": "fd0184df",
   "metadata": {},
   "outputs": [
    {
     "data": {
      "text/plain": [
       "9.09"
      ]
     },
     "execution_count": 5,
     "metadata": {},
     "output_type": "execute_result"
    }
   ],
   "source": [
    "# calculate the percentage of missing values\n",
    "data['Tenure'].isna().sum()*100/len(data['Tenure'])"
   ]
  },
  {
   "cell_type": "code",
   "execution_count": 6,
   "id": "79bad111",
   "metadata": {},
   "outputs": [
    {
     "data": {
      "text/plain": [
       "array(['France', 'Spain', 'Germany'], dtype=object)"
      ]
     },
     "execution_count": 6,
     "metadata": {},
     "output_type": "execute_result"
    }
   ],
   "source": [
    "# the number of unique values in the column 'Geography'\n",
    "data['Geography'].unique()"
   ]
  },
  {
   "cell_type": "code",
   "execution_count": 7,
   "id": "daf99012",
   "metadata": {},
   "outputs": [
    {
     "data": {
      "text/plain": [
       "array([ 2.,  1.,  8.,  7.,  4.,  6.,  3., 10.,  5.,  9.,  0., nan])"
      ]
     },
     "execution_count": 7,
     "metadata": {},
     "output_type": "execute_result"
    }
   ],
   "source": [
    "# the number of unique values in the column 'Tenure'\n",
    "data['Tenure'].unique()"
   ]
  },
  {
   "cell_type": "markdown",
   "id": "36d31ec4",
   "metadata": {},
   "source": [
    "### Conclusion\n",
    "The dataset has missing values in the \"Tenure\" column, they are less than 10%. Three columns have the 'object' data type, these columns must be converted to a numeric data type or dropped it."
   ]
  },
  {
   "cell_type": "markdown",
   "id": "ee5b96c2",
   "metadata": {},
   "source": [
    "## Data Preprocessing"
   ]
  },
  {
   "cell_type": "code",
   "execution_count": 8,
   "id": "a0f8761f",
   "metadata": {},
   "outputs": [],
   "source": [
    "# drop the missing values in the \"Tenure\" column\n",
    "data = data.dropna(subset=['Tenure']) "
   ]
  },
  {
   "cell_type": "code",
   "execution_count": 9,
   "id": "259e41d6",
   "metadata": {},
   "outputs": [],
   "source": [
    "# replace the 'Geography' column with numeric values. \n",
    "data['Geography'] = data['Geography'].replace(['France', 'Germany', 'Spain'], [0, 1, 2])"
   ]
  },
  {
   "cell_type": "code",
   "execution_count": 10,
   "id": "d9c94ea5",
   "metadata": {},
   "outputs": [],
   "source": [
    "# Delete the \"Surname\" column\n",
    "data = data.drop(['Surname'], axis = 1)\n",
    "#data = data.drop(['RowNumber','CustomerId'], axis = 1)"
   ]
  },
  {
   "cell_type": "code",
   "execution_count": 11,
   "id": "4e4f2fdc",
   "metadata": {},
   "outputs": [
    {
     "name": "stdout",
     "output_type": "stream",
     "text": [
      "<class 'pandas.core.frame.DataFrame'>\n",
      "Int64Index: 9091 entries, 0 to 9998\n",
      "Data columns (total 13 columns):\n",
      " #   Column           Non-Null Count  Dtype  \n",
      "---  ------           --------------  -----  \n",
      " 0   RowNumber        9091 non-null   int64  \n",
      " 1   CustomerId       9091 non-null   int64  \n",
      " 2   CreditScore      9091 non-null   int64  \n",
      " 3   Geography        9091 non-null   int64  \n",
      " 4   Age              9091 non-null   int64  \n",
      " 5   Tenure           9091 non-null   float64\n",
      " 6   Balance          9091 non-null   float64\n",
      " 7   NumOfProducts    9091 non-null   int64  \n",
      " 8   HasCrCard        9091 non-null   int64  \n",
      " 9   IsActiveMember   9091 non-null   int64  \n",
      " 10  EstimatedSalary  9091 non-null   float64\n",
      " 11  Exited           9091 non-null   int64  \n",
      " 12  Gender_Male      9091 non-null   uint8  \n",
      "dtypes: float64(3), int64(9), uint8(1)\n",
      "memory usage: 932.2 KB\n",
      "None\n"
     ]
    }
   ],
   "source": [
    "# convert categorical features into numerical ones\n",
    "data_ohe = pd.get_dummies(data,drop_first = True)\n",
    "print(data_ohe.info())\n",
    "#data_ohe"
   ]
  },
  {
   "cell_type": "markdown",
   "id": "0d446abf",
   "metadata": {},
   "source": [
    "### Conclusion\n",
    "In order not to add many new columns to the dataframe, delete the \"Surname\" column. Then we will use the One Hot Encoding method to convert categorical features into numeric ones. The OHE method is universal and suitable for most machine learning algorithms without loss of performance."
   ]
  },
  {
   "cell_type": "markdown",
   "id": "e7228aff",
   "metadata": {},
   "source": [
    "## Split the source data into a training set, a validation set, and a test set."
   ]
  },
  {
   "cell_type": "code",
   "execution_count": 12,
   "id": "43ebe72c",
   "metadata": {},
   "outputs": [
    {
     "name": "stdout",
     "output_type": "stream",
     "text": [
      "The shape of the training set: (5454, 12)\n",
      "The shape of the validation set: (1819, 12)\n",
      "The shape of the test set: (1818, 12)\n"
     ]
    }
   ],
   "source": [
    "# getting a test set, a validation set and a training set.\n",
    "df_train, df_test = train_test_split(data_ohe, test_size=0.4, random_state=12345) \n",
    "df_test, df_valid = train_test_split(df_test,test_size=0.5, random_state=12345)\n",
    "\n",
    "# declare variables for features and target feature for a training set\n",
    "features_train = df_train.drop(['Exited'], axis = 1)\n",
    "target_train = df_train['Exited']\n",
    "\n",
    "# declare variables for features and target feature for a validation set\n",
    "features_valid = df_valid.drop(['Exited'], axis = 1)\n",
    "target_valid = df_valid['Exited']\n",
    "\n",
    "# declare variables for features and target feature for a testing set\n",
    "features_test = df_test.drop(['Exited'], axis = 1)\n",
    "target_test = df_test['Exited']\n",
    "\n",
    "print('The shape of the training set:',features_train.shape)\n",
    "print('The shape of the validation set:',features_valid.shape)\n",
    "print('The shape of the test set:',features_test.shape)\n"
   ]
  },
  {
   "cell_type": "markdown",
   "id": "00ec9b20",
   "metadata": {},
   "source": [
    "## Analysis of features"
   ]
  },
  {
   "cell_type": "code",
   "execution_count": 13,
   "id": "99040991",
   "metadata": {},
   "outputs": [],
   "source": [
    "features = ['CreditScore', 'Geography','Gender', 'Age', 'Tenure', 'Balance', 'NumOfProducts', 'HasCrCard',\n",
    "       'IsActiveMember', 'EstimatedSalary']"
   ]
  },
  {
   "cell_type": "code",
   "execution_count": 14,
   "id": "fdccac75",
   "metadata": {},
   "outputs": [
    {
     "data": {
      "image/png": "[encoded data removed]",
      "text/plain": [
       "<Figure size 432x288 with 1 Axes>"
      ]
     },
     "metadata": {
      "needs_background": "light"
     },
     "output_type": "display_data"
    }
   ],
   "source": [
    "data['CreditScore'].hist()\n",
    "plt.title('Distribution of credit score')\n",
    "plt.show()"
   ]
  },
  {
   "cell_type": "code",
   "execution_count": 15,
   "id": "0964e684",
   "metadata": {},
   "outputs": [
    {
     "data": {
      "image/png": "[encoded data removed]",
      "text/plain": [
       "<Figure size 432x288 with 1 Axes>"
      ]
     },
     "metadata": {
      "needs_background": "light"
     },
     "output_type": "display_data"
    }
   ],
   "source": [
    "data.groupby('Exited')['Gender'].hist()\n",
    "plt.title('Distribution of gender variable per target group')\n",
    "plt.show()"
   ]
  },
  {
   "cell_type": "code",
   "execution_count": 16,
   "id": "504e9c68",
   "metadata": {},
   "outputs": [
    {
     "data": {
      "image/png": "[encoded data removed]",
      "text/plain": [
       "<Figure size 432x288 with 1 Axes>"
      ]
     },
     "metadata": {
      "needs_background": "light"
     },
     "output_type": "display_data"
    }
   ],
   "source": [
    "data.groupby('Exited')['Geography'].hist()\n",
    "plt.title('Proportion of \"exited\" clients per country')\n",
    "plt.show()"
   ]
  },
  {
   "cell_type": "code",
   "execution_count": 17,
   "id": "4d120112",
   "metadata": {},
   "outputs": [
    {
     "data": {
      "image/png": "[encoded data removed]",
      "text/plain": [
       "<Figure size 432x288 with 1 Axes>"
      ]
     },
     "metadata": {
      "needs_background": "light"
     },
     "output_type": "display_data"
    }
   ],
   "source": [
    "data.groupby('Exited')['Age'].hist()\n",
    "plt.title('Distribution of age variable per target group')\n",
    "plt.show()"
   ]
  },
  {
   "cell_type": "code",
   "execution_count": 38,
   "id": "726038c4",
   "metadata": {},
   "outputs": [
    {
     "data": {
      "image/png": "[encoded data removed]",
      "text/plain": [
       "<Figure size 432x288 with 1 Axes>"
      ]
     },
     "metadata": {
      "needs_background": "light"
     },
     "output_type": "display_data"
    }
   ],
   "source": [
    "data['Balance'].hist()\n",
    "plt.show()"
   ]
  },
  {
   "cell_type": "code",
   "execution_count": 19,
   "id": "d496661d",
   "metadata": {},
   "outputs": [
    {
     "data": {
      "image/png": "[encoded data removed]",
      "text/plain": [
       "<Figure size 432x288 with 1 Axes>"
      ]
     },
     "metadata": {
      "needs_background": "light"
     },
     "output_type": "display_data"
    }
   ],
   "source": [
    "#X, y = data[features].values,data['Exited'].values\n",
    "#X_train, X_test, y_train, y_test = train_test_split(X, y, test_size=0.1, random_state=42)\n",
    "rfc = DecisionTreeClassifier().fit(features_train, target_train)\n",
    "y_pred = rfc.predict(features_test)\n",
    "df_feature_importances = pd.DataFrame(((zip(features, rfc.feature_importances_)))).rename(columns={0:\"feature\",1:\"coeff\"}).sort_values(by=\"coeff\", ascending = False )\n",
    "sns.barplot(data=df_feature_importances, x=df_feature_importances[\"coeff\"], y=df_feature_importances[\"feature\"])\n",
    "plt.show()"
   ]
  },
  {
   "cell_type": "code",
   "execution_count": 20,
   "id": "93a8a99a",
   "metadata": {},
   "outputs": [
    {
     "data": {
      "image/png": "[encoded data removed]",
      "text/plain": [
       "<Figure size 432x288 with 1 Axes>"
      ]
     },
     "metadata": {
      "needs_background": "light"
     },
     "output_type": "display_data"
    }
   ],
   "source": [
    "sns.countplot(data['Exited'])\n",
    "plt.show()"
   ]
  },
  {
   "cell_type": "markdown",
   "id": "ac8a6b82",
   "metadata": {},
   "source": [
    "### Conclusion\n",
    "\n",
    "Our data consists from 14 features, where we found out that RowNumber, CustomerId and Surname are not important (don't impact on the model) features by importance: 'Age','EstimatedSalary','Balance','CreditScore','NumOfProducts', 'Tenure','IsActiveMember','Geography','Gender','HasCrCard'. Our target is 'Exited'. Also we have Balance, EstimatedSalary and good questiong what is meause of those columns(we could infer it from column of Geography, if it's Europe probably it's euro). Also some data was missed at Tenure column, but using some simplistic model (linear regression) we imputed it."
   ]
  },
  {
   "cell_type": "markdown",
   "id": "2cf2da02",
   "metadata": {},
   "source": [
    "## Feature Scaling"
   ]
  },
  {
   "cell_type": "code",
   "execution_count": 21,
   "id": "a83e685e",
   "metadata": {},
   "outputs": [
    {
     "data": {
      "text/html": [
       "<div>\n",
       "<style scoped>\n",
       "    .dataframe tbody tr th:only-of-type {\n",
       "        vertical-align: middle;\n",
       "    }\n",
       "\n",
       "    .dataframe tbody tr th {\n",
       "        vertical-align: top;\n",
       "    }\n",
       "\n",
       "    .dataframe thead th {\n",
       "        text-align: right;\n",
       "    }\n",
       "</style>\n",
       "<table border=\"1\" class=\"dataframe\">\n",
       "  <thead>\n",
       "    <tr style=\"text-align: right;\">\n",
       "      <th></th>\n",
       "      <th>RowNumber</th>\n",
       "      <th>CustomerId</th>\n",
       "      <th>CreditScore</th>\n",
       "      <th>Geography</th>\n",
       "      <th>Age</th>\n",
       "      <th>Tenure</th>\n",
       "      <th>Balance</th>\n",
       "      <th>NumOfProducts</th>\n",
       "      <th>HasCrCard</th>\n",
       "      <th>IsActiveMember</th>\n",
       "      <th>EstimatedSalary</th>\n",
       "      <th>Gender_Male</th>\n",
       "    </tr>\n",
       "  </thead>\n",
       "  <tbody>\n",
       "    <tr>\n",
       "      <th>9344</th>\n",
       "      <td>9345</td>\n",
       "      <td>15720050</td>\n",
       "      <td>0.809075</td>\n",
       "      <td>-0.90352</td>\n",
       "      <td>-1.039327</td>\n",
       "      <td>-1.025995</td>\n",
       "      <td>0.554904</td>\n",
       "      <td>-0.908179</td>\n",
       "      <td>0.663468</td>\n",
       "      <td>-1.024127</td>\n",
       "      <td>0.019508</td>\n",
       "      <td>-1.107304</td>\n",
       "    </tr>\n",
       "    <tr>\n",
       "      <th>3796</th>\n",
       "      <td>3797</td>\n",
       "      <td>15578096</td>\n",
       "      <td>-1.152518</td>\n",
       "      <td>-0.90352</td>\n",
       "      <td>-1.227561</td>\n",
       "      <td>0.696524</td>\n",
       "      <td>0.480609</td>\n",
       "      <td>-0.908179</td>\n",
       "      <td>-1.507231</td>\n",
       "      <td>-1.024127</td>\n",
       "      <td>0.056167</td>\n",
       "      <td>0.903094</td>\n",
       "    </tr>\n",
       "    <tr>\n",
       "      <th>7462</th>\n",
       "      <td>7463</td>\n",
       "      <td>15598266</td>\n",
       "      <td>-0.398853</td>\n",
       "      <td>-0.90352</td>\n",
       "      <td>0.090079</td>\n",
       "      <td>1.385532</td>\n",
       "      <td>-1.237830</td>\n",
       "      <td>-0.908179</td>\n",
       "      <td>0.663468</td>\n",
       "      <td>0.976442</td>\n",
       "      <td>0.848738</td>\n",
       "      <td>0.903094</td>\n",
       "    </tr>\n",
       "    <tr>\n",
       "      <th>1508</th>\n",
       "      <td>1509</td>\n",
       "      <td>15701200</td>\n",
       "      <td>-0.749875</td>\n",
       "      <td>-0.90352</td>\n",
       "      <td>-0.286389</td>\n",
       "      <td>0.352020</td>\n",
       "      <td>-1.237830</td>\n",
       "      <td>0.809300</td>\n",
       "      <td>0.663468</td>\n",
       "      <td>0.976442</td>\n",
       "      <td>-0.894953</td>\n",
       "      <td>0.903094</td>\n",
       "    </tr>\n",
       "    <tr>\n",
       "      <th>4478</th>\n",
       "      <td>4479</td>\n",
       "      <td>15622443</td>\n",
       "      <td>-1.028628</td>\n",
       "      <td>-0.90352</td>\n",
       "      <td>-0.756975</td>\n",
       "      <td>-0.336987</td>\n",
       "      <td>-1.237830</td>\n",
       "      <td>0.809300</td>\n",
       "      <td>-1.507231</td>\n",
       "      <td>0.976442</td>\n",
       "      <td>-1.284516</td>\n",
       "      <td>0.903094</td>\n",
       "    </tr>\n",
       "  </tbody>\n",
       "</table>\n",
       "</div>"
      ],
      "text/plain": [
       "      RowNumber  CustomerId  CreditScore  Geography       Age    Tenure  \\\n",
       "9344       9345    15720050     0.809075   -0.90352 -1.039327 -1.025995   \n",
       "3796       3797    15578096    -1.152518   -0.90352 -1.227561  0.696524   \n",
       "7462       7463    15598266    -0.398853   -0.90352  0.090079  1.385532   \n",
       "1508       1509    15701200    -0.749875   -0.90352 -0.286389  0.352020   \n",
       "4478       4479    15622443    -1.028628   -0.90352 -0.756975 -0.336987   \n",
       "\n",
       "       Balance  NumOfProducts  HasCrCard  IsActiveMember  EstimatedSalary  \\\n",
       "9344  0.554904      -0.908179   0.663468       -1.024127         0.019508   \n",
       "3796  0.480609      -0.908179  -1.507231       -1.024127         0.056167   \n",
       "7462 -1.237830      -0.908179   0.663468        0.976442         0.848738   \n",
       "1508 -1.237830       0.809300   0.663468        0.976442        -0.894953   \n",
       "4478 -1.237830       0.809300  -1.507231        0.976442        -1.284516   \n",
       "\n",
       "      Gender_Male  \n",
       "9344    -1.107304  \n",
       "3796     0.903094  \n",
       "7462     0.903094  \n",
       "1508     0.903094  \n",
       "4478     0.903094  "
      ]
     },
     "execution_count": 21,
     "metadata": {},
     "output_type": "execute_result"
    }
   ],
   "source": [
    "# features that we will standardize\n",
    "numeric = ['CreditScore','Geography','Age','Tenure','Balance','NumOfProducts','HasCrCard','IsActiveMember','EstimatedSalary','Gender_Male']\n",
    "\n",
    "# standardizing the training set, the validating set and the testing set\n",
    "scaler = StandardScaler()\n",
    "scaler.fit(features_train[numeric])\n",
    "features_train[numeric] = scaler.transform(features_train[numeric])\n",
    "features_valid[numeric] = scaler.transform(features_valid[numeric])\n",
    "features_test[numeric] = scaler.transform(features_test[numeric])\n",
    "features_train.head()\n"
   ]
  },
  {
   "cell_type": "markdown",
   "id": "dce35271",
   "metadata": {},
   "source": [
    "### Conclusion\n",
    "The original dataset was split 3:1:1 into sets for training, testing and verification. The features in this dataset have different scales, so we standardize them. We want all the features to be considered equally important before the algorithm is executed."
   ]
  },
  {
   "cell_type": "markdown",
   "id": "2dba860d",
   "metadata": {},
   "source": [
    "## Train the model without taking into account the imbalance."
   ]
  },
  {
   "cell_type": "code",
   "execution_count": 22,
   "id": "f8c3f01d",
   "metadata": {},
   "outputs": [
    {
     "name": "stdout",
     "output_type": "stream",
     "text": [
      "accuracy: 0.8070368334249588\n",
      "F1: 0.0\n",
      "AUC-ROC: 0.4906126520567938\n"
     ]
    },
    {
     "data": {
      "image/png": "[encoded data removed]",
      "text/plain": [
       "<Figure size 432x288 with 1 Axes>"
      ]
     },
     "metadata": {
      "needs_background": "light"
     },
     "output_type": "display_data"
    }
   ],
   "source": [
    "warnings.filterwarnings(\"ignore\")\n",
    "\n",
    "# training the model with a logistic regression algorithm\n",
    "model_logistic_reg_im = LogisticRegression(random_state=12345, solver='liblinear') \n",
    "model_logistic_reg_im.fit(features_train, target_train)\n",
    "\n",
    "# make a prediction the training set\n",
    "predicted_valid_logistic_reg_im = model_logistic_reg_im.predict(features_valid)\n",
    "\n",
    "# calculate the class probability \n",
    "probabilities_valid_logistic_reg_im = model_logistic_reg_im.predict_proba(features_valid)\n",
    "\n",
    "# calculate the main metrics of the model\n",
    "print('accuracy:',accuracy_score(target_valid,predicted_valid_logistic_reg_im))\n",
    "print('F1:', f1_score(target_valid, predicted_valid_logistic_reg_im))\n",
    "print('AUC-ROC:',roc_auc_score(target_valid, probabilities_valid_logistic_reg_im[:, 1]))\n",
    "\n",
    "# plot the metrics for the FPR, TPR variables and Thresholds values\n",
    "fpr, tpr, thresholds = roc_curve(target_valid, probabilities_valid_logistic_reg_im[:, 1])\n",
    "plt.figure()\n",
    "plt.plot(fpr, tpr)\n",
    "# ROC curve for random model \n",
    "plt.plot([0, 1], [0, 1], linestyle='--')\n",
    "# set the boundary for the axes from 0 to 1 \n",
    "plt.xlim([0.0, 1.0])\n",
    "plt.ylim([0.0, 1.0])\n",
    "# to name the axes \"False Positive Rate\" and \"True Positive Rate\"\n",
    "plt.xlim([0.0, 1.0])\n",
    "plt.ylim([0.0, 1.0])\n",
    "plt.xlabel('False Positive Rate')\n",
    "plt.ylabel('True Positive Rate')\n",
    "# add the heading \"ROC curve\" \n",
    "plt.title('ROC curve')\n",
    "plt.show()"
   ]
  },
  {
   "cell_type": "code",
   "execution_count": 23,
   "id": "e5383063",
   "metadata": {},
   "outputs": [
    {
     "name": "stdout",
     "output_type": "stream",
     "text": [
      "accuracy: 0.8565145684442002\n",
      "F1: 0.5280289330922243\n",
      "AUC-ROC: 0.8225273061785322\n"
     ]
    },
    {
     "data": {
      "image/png": "[encoded data removed]",
      "text/plain": [
       "<Figure size 432x288 with 1 Axes>"
      ]
     },
     "metadata": {
      "needs_background": "light"
     },
     "output_type": "display_data"
    }
   ],
   "source": [
    "# training the model, make a prediction the training set and calculate the class probability \n",
    "model_tree_classifier_im = DecisionTreeClassifier(random_state=12345, max_depth=5)\n",
    "model_tree_classifier_im.fit(features_train, target_train)\n",
    "predicted_valid_tree_classifier_im = model_tree_classifier_im.predict(features_valid)\n",
    "probabilities_valid_tree_classifier_im = model_tree_classifier_im.predict_proba(features_valid)\n",
    "\n",
    "# calculate the main metrics of the model\n",
    "print('accuracy:',accuracy_score(target_valid,predicted_valid_tree_classifier_im))\n",
    "print('F1:', f1_score(target_valid, predicted_valid_tree_classifier_im))\n",
    "print('AUC-ROC:',roc_auc_score(target_valid, probabilities_valid_tree_classifier_im[:, 1]))\n",
    "\n",
    "# plot the metrics for the FPR, TPR variables and Thresholds values\n",
    "fpr, tpr, thresholds = roc_curve(target_valid, probabilities_valid_tree_classifier_im[:, 1])\n",
    "plt.figure()\n",
    "plt.plot(fpr, tpr)\n",
    "# ROC curve for random model \n",
    "plt.plot([0, 1], [0, 1], linestyle='--')\n",
    "# set the boundary for the axes from 0 to 1 \n",
    "plt.xlim([0.0, 1.0])\n",
    "plt.ylim([0.0, 1.0])\n",
    "# to name the axes \"False Positive Rate\" and \"True Positive Rate\"\n",
    "plt.xlim([0.0, 1.0])\n",
    "plt.ylim([0.0, 1.0])\n",
    "plt.xlabel('False Positive Rate')\n",
    "plt.ylabel('True Positive Rate')\n",
    "# add the heading \"ROC curve\" \n",
    "plt.title('ROC curve')\n",
    "plt.show()"
   ]
  },
  {
   "cell_type": "code",
   "execution_count": 24,
   "id": "dcbcd746",
   "metadata": {},
   "outputs": [
    {
     "name": "stdout",
     "output_type": "stream",
     "text": [
      "accuracy: 0.868609125893348\n",
      "F1: 0.5784832451499118\n",
      "AUC-ROC: 0.8543175590178316\n"
     ]
    },
    {
     "data": {
      "image/png": "[encoded data removed]",
      "text/plain": [
       "<Figure size 432x288 with 1 Axes>"
      ]
     },
     "metadata": {
      "needs_background": "light"
     },
     "output_type": "display_data"
    }
   ],
   "source": [
    "# training the model, make a prediction the training set and calculate the class probability\n",
    "model_forest_classifier_im = RandomForestClassifier(random_state=12345, n_estimators=35,max_features = 12,\n",
    "                                                    min_samples_split=5, min_samples_leaf=5, max_depth=10)\n",
    "model_forest_classifier_im.fit(features_train, target_train)    \n",
    "predicted_valid_forest_classifier = model_forest_classifier_im.predict(features_valid)\n",
    "probabilities_valid_forest_classifier_im = model_forest_classifier_im.predict_proba(features_valid)\n",
    "probabilities_one_valid_forest_classifier_im = probabilities_valid_forest_classifier_im[:, 1]\n",
    "\n",
    "# calculate the main metrics of the model\n",
    "print('accuracy:',accuracy_score(target_valid,predicted_valid_forest_classifier))\n",
    "print('F1:', f1_score(target_valid, predicted_valid_forest_classifier))\n",
    "print('AUC-ROC:',roc_auc_score(target_valid, probabilities_one_valid_forest_classifier_im))\n",
    "\n",
    "# plot the metrics for the FPR, TPR variables and Thresholds values\n",
    "fpr, tpr, thresholds = roc_curve(target_valid, probabilities_one_valid_forest_classifier_im)\n",
    "plt.figure()\n",
    "plt.plot(fpr, tpr)\n",
    "# ROC curve for random model\n",
    "plt.plot([0, 1], [0, 1], linestyle='--')\n",
    "# set the boundary for the axes from 0 to 1 \n",
    "plt.xlim([0.0, 1.0])\n",
    "plt.ylim([0.0, 1.0])\n",
    "# to name the axes \"False Positive Rate\" and \"True Positive Rate\"\n",
    "plt.xlim([0.0, 1.0])\n",
    "plt.ylim([0.0, 1.0])\n",
    "plt.xlabel('False Positive Rate')\n",
    "plt.ylabel('True Positive Rate')\n",
    "# add the heading \"ROC curve\"\n",
    "plt.title('ROC curve')\n",
    "plt.show()"
   ]
  },
  {
   "cell_type": "markdown",
   "id": "c138b775",
   "metadata": {},
   "source": [
    "### Conclusion\n",
    "Training the model without taking into account the class imbalance gave the best quality when training with the Random Forest algorithm. Since the F1 score for this model is higher than the others, it means Precision:Recall is closer to 1:1. Also, the AUC-ROC metric is better for the Random Forest algorithm, which means that there are more TPR values. R2 score is also almost equal to 1, which indicates the high quality of the model. The training of the model by the Logistic Regression algorithm completely failed."
   ]
  },
  {
   "cell_type": "markdown",
   "id": "6bd86d5c",
   "metadata": {},
   "source": [
    "## Fixing class imbalance."
   ]
  },
  {
   "cell_type": "code",
   "execution_count": 25,
   "id": "7f795b70",
   "metadata": {},
   "outputs": [],
   "source": [
    "# use an algorithm upsampling to duplicate some of the positive observations\n",
    "def upsample(features, target, repeat):\n",
    "    features_zeros = features[target == 0]\n",
    "    features_ones = features[target == 1] \n",
    "    target_zeros = target[target == 0]\n",
    "    target_ones = target[target == 1] \n",
    "    features_upsampled = pd.concat([features_zeros] + [features_ones] * repeat)\n",
    "    target_upsampled = pd.concat([target_zeros] + [target_ones] * repeat)\n",
    "    features_upsampled, target_upsampled = shuffle(features_upsampled, target_upsampled, random_state=12345)\n",
    "    return features_upsampled, target_upsampled"
   ]
  },
  {
   "cell_type": "code",
   "execution_count": 26,
   "id": "be8b17ca",
   "metadata": {},
   "outputs": [],
   "source": [
    "# use an algorithm downsampling to discard some of the negative observations\n",
    "def downsample(features, target, fraction):\n",
    "    features_zeros = features[target == 0]\n",
    "    features_ones = features[target == 1]\n",
    "    target_zeros = target[target == 0]\n",
    "    target_ones = target[target == 1]\n",
    "    features_downsampled = pd.concat([features_zeros.sample(frac=fraction, random_state=12345)] + [features_ones])\n",
    "    target_downsampled = pd.concat([target_zeros.sample(frac=fraction, random_state=12345)] + [target_ones])\n",
    "    features_downsampled, target_downsampled = shuffle(features_downsampled,target_downsampled,random_state=12345)\n",
    "    return features_downsampled, target_downsampled"
   ]
  },
  {
   "cell_type": "markdown",
   "id": "73bc8131",
   "metadata": {},
   "source": [
    "### The Logistic Regression Model"
   ]
  },
  {
   "cell_type": "code",
   "execution_count": 27,
   "id": "21caceb9",
   "metadata": {},
   "outputs": [
    {
     "name": "stdout",
     "output_type": "stream",
     "text": [
      "Confusion Matrix for the Logistic Regression Model:\n",
      "[[1058  410]\n",
      " [ 113  238]]\n",
      "Recall : 0.6780626780626781\n",
      "Precision : 0.36728395061728397\n",
      "F1 : 0.4764764764764765\n",
      "AUC-ROC: 0.7708784554833602\n"
     ]
    },
    {
     "data": {
      "image/png": "[encoded data removed]",
      "text/plain": [
       "<Figure size 432x288 with 1 Axes>"
      ]
     },
     "metadata": {
      "needs_background": "light"
     },
     "output_type": "display_data"
    }
   ],
   "source": [
    "# training the model with a logistic regression algorithm with class weight adjustment \n",
    "model_logistic_reg = LogisticRegression(random_state=12345,class_weight='balanced', solver='liblinear') \n",
    "model_logistic_reg.fit(features_train, target_train)\n",
    "predicted_valid_logistic_reg = model_logistic_reg.predict(features_valid)\n",
    "probabilities_one_valid_logistic_reg = model_logistic_reg.predict_proba(features_valid)\n",
    "probabilities_one_valid_logistic_reg = probabilities_one_valid_logistic_reg[:, 1]\n",
    "\n",
    "# calculate the main metrics of the model\n",
    "print('Confusion Matrix for the Logistic Regression Model:')\n",
    "print(confusion_matrix(target_valid,predicted_valid_logistic_reg))\n",
    "print('Recall :', recall_score(target_valid,predicted_valid_logistic_reg))\n",
    "print('Precision :', precision_score(target_valid,predicted_valid_logistic_reg))\n",
    "print('F1 :', f1_score(target_valid,predicted_valid_logistic_reg))\n",
    "print('AUC-ROC:',roc_auc_score(target_valid, probabilities_one_valid_logistic_reg))\n",
    "\n",
    "# plot the metrics for the FPR, TPR variables and Thresholds values\n",
    "fpr, tpr, thresholds = roc_curve(target_valid, probabilities_one_valid_logistic_reg)\n",
    "plt.figure()\n",
    "plt.plot(fpr, tpr)\n",
    "# ROC curve for random model\n",
    "plt.plot([0, 1], [0, 1], linestyle='--')\n",
    "# set the boundary for the axes from 0 to 1\n",
    "plt.xlim([0.0, 1.0])\n",
    "plt.ylim([0.0, 1.0])\n",
    "# to name the axes \"False Positive Rate\" and \"True Positive Rate\"\n",
    "plt.xlim([0.0, 1.0])\n",
    "plt.ylim([0.0, 1.0])\n",
    "plt.xlabel('False Positive Rate')\n",
    "plt.ylabel('True Positive Rate')\n",
    "# add the heading \"ROC curve\"\n",
    "plt.title('ROC curve')\n",
    "plt.show()"
   ]
  },
  {
   "cell_type": "code",
   "execution_count": 28,
   "id": "88572303",
   "metadata": {},
   "outputs": [
    {
     "name": "stdout",
     "output_type": "stream",
     "text": [
      "F1: 0.3268085106382979\n",
      "AUC-ROC: 0.6045300697889254\n"
     ]
    }
   ],
   "source": [
    "# model training with the use of upsampling algorithm\n",
    "features_upsampled, target_upsampled = upsample(features_train, target_train, 16)\n",
    "model_logistic_reg_upsample = LogisticRegression(random_state=12345,class_weight='balanced', solver='liblinear')\n",
    "model_logistic_reg_upsample.fit(features_upsampled,target_upsampled)\n",
    "predicted_valid_logistic_reg_upsample = model_logistic_reg_upsample.predict(features_valid)\n",
    "\n",
    "# make a prediction the training set and calculate the class probability\n",
    "probabilities_valid_logistic_reg_upsample = model_logistic_reg_upsample.predict_proba(features_valid)\n",
    "probabilities_one_valid_logistic_reg_upsample = probabilities_valid_logistic_reg_upsample[:, 1]\n",
    "\n",
    "# calculate the main metrics of the model\n",
    "print('F1:', f1_score(target_valid, predicted_valid_logistic_reg_upsample))\n",
    "print('AUC-ROC:',roc_auc_score(target_valid, probabilities_one_valid_logistic_reg_upsample))"
   ]
  },
  {
   "cell_type": "code",
   "execution_count": 29,
   "id": "5e4f186e",
   "metadata": {},
   "outputs": [
    {
     "name": "stdout",
     "output_type": "stream",
     "text": [
      "F1: 0.4683794466403162\n",
      "AUC-ROC: 0.770362219272301\n"
     ]
    }
   ],
   "source": [
    "# model training with the use of downsampling algorithm\n",
    "features_downsampled, target_downsampled = downsample(features_train, target_train, 0.15)\n",
    "model_logistic_reg_downsample = LogisticRegression( random_state=12345, class_weight='balanced',solver='liblinear')\n",
    "model_logistic_reg_downsample.fit(features_downsampled,target_downsampled)\n",
    "\n",
    "# make a prediction the training set and calculate the class probability\n",
    "predicted_valid_logistic_reg_downsample = model_logistic_reg_downsample.predict(features_valid)\n",
    "probabilities_valid_logistic_reg_downsample = model_logistic_reg_downsample.predict_proba(features_valid)\n",
    "probabilities_one_valid_logistic_reg_downsample = probabilities_valid_logistic_reg_downsample[:, 1]\n",
    "\n",
    "# calculate the main metrics of the model\n",
    "print('F1:', f1_score(target_valid, predicted_valid_logistic_reg_downsample))\n",
    "print('AUC-ROC:',roc_auc_score(target_valid, probabilities_one_valid_logistic_reg_downsample))"
   ]
  },
  {
   "cell_type": "markdown",
   "id": "6cbc3ca2",
   "metadata": {},
   "source": [
    "## The Decision Tree Model"
   ]
  },
  {
   "cell_type": "code",
   "execution_count": 30,
   "id": "69dd350d",
   "metadata": {},
   "outputs": [
    {
     "name": "stdout",
     "output_type": "stream",
     "text": [
      "Confusion Matrix for the Decision Tree Model:\n",
      "[[1178  290]\n",
      " [ 110  241]]\n",
      "F1 : 0.5464852607709751\n",
      "AUC-ROC: 0.8332149483375643\n"
     ]
    },
    {
     "data": {
      "image/png": "[encoded data removed]",
      "text/plain": [
       "<Figure size 432x288 with 1 Axes>"
      ]
     },
     "metadata": {
      "needs_background": "light"
     },
     "output_type": "display_data"
    }
   ],
   "source": [
    "# training the model with the Decision Tree algorithm with class weight adjustment\n",
    "model_tree_classifier = DecisionTreeClassifier(random_state=12345, class_weight='balanced', max_depth=6)\n",
    "model_tree_classifier.fit(features_train, target_train)\n",
    "\n",
    "# make a prediction the training set and calculate the class probability\n",
    "predicted_valid_tree_classifier = model_tree_classifier.predict(features_valid)\n",
    "probabilities_valid_tree_classifier = model_tree_classifier.predict_proba(features_valid)\n",
    "probabilities_one_valid_tree_classifier = probabilities_valid_tree_classifier[:, 1]\n",
    "\n",
    "# calculate the main metrics of the model\n",
    "print('Confusion Matrix for the Decision Tree Model:')\n",
    "print(confusion_matrix(target_valid,predicted_valid_tree_classifier))\n",
    "print('F1 :', f1_score(target_valid,predicted_valid_tree_classifier))\n",
    "print('AUC-ROC:',roc_auc_score(target_valid, probabilities_one_valid_tree_classifier))\n",
    "\n",
    "# plot the metrics for the FPR, TPR variables and Thresholds values\n",
    "fpr, tpr, thresholds = roc_curve(target_valid, probabilities_one_valid_tree_classifier)\n",
    "plt.figure()\n",
    "plt.plot(fpr, tpr)\n",
    "# ROC curve for random model \n",
    "plt.plot([0, 1], [0, 1], linestyle='--')\n",
    "# set the boundary for the axes from 0 to 1 \n",
    "plt.xlim([0.0, 1.0])\n",
    "plt.ylim([0.0, 1.0])\n",
    "# to name the axes \"False Positive Rate\" and \"True Positive Rate\"\n",
    "plt.xlim([0.0, 1.0])\n",
    "plt.ylim([0.0, 1.0])\n",
    "plt.xlabel('False Positive Rate')\n",
    "plt.ylabel('True Positive Rate')\n",
    "# heading \"ROC curve\" \n",
    "plt.title('ROC curve')\n",
    "plt.show()"
   ]
  },
  {
   "cell_type": "code",
   "execution_count": 31,
   "id": "52ccc2c9",
   "metadata": {},
   "outputs": [
    {
     "name": "stdout",
     "output_type": "stream",
     "text": [
      "F1: 0.5118577075098815\n",
      "AUC-ROC: 0.8243477180806881\n"
     ]
    }
   ],
   "source": [
    "# model training with the use of upsampling algorithm\n",
    "features_upsampled, target_upsampled = upsample(features_train, target_train, 21)\n",
    "model_tree_classifier_upsample = DecisionTreeClassifier(random_state=12345,class_weight='balanced', max_depth=7)\n",
    "model_tree_classifier_upsample.fit(features_upsampled,target_upsampled)\n",
    "\n",
    "# make a prediction the training set and calculate the class probability\n",
    "predicted_valid_tree_classifier_upsample = model_tree_classifier_upsample.predict(features_valid)\n",
    "probabilities_valid_tree_classifier_upsample = model_tree_classifier_upsample.predict_proba(features_valid)\n",
    "probabilities_one_valid_tree_classifier_upsample = probabilities_valid_tree_classifier_upsample[:, 1]\n",
    "\n",
    "# calculate the main metrics of the model\n",
    "print('F1:', f1_score(target_valid, predicted_valid_tree_classifier_upsample))\n",
    "print('AUC-ROC:',roc_auc_score(target_valid, probabilities_one_valid_tree_classifier_upsample))"
   ]
  },
  {
   "cell_type": "code",
   "execution_count": 32,
   "id": "e13fd49e",
   "metadata": {},
   "outputs": [
    {
     "name": "stdout",
     "output_type": "stream",
     "text": [
      "F1: 0.49552238805970145\n",
      "AUC-ROC: 0.773166585155686\n"
     ]
    }
   ],
   "source": [
    "# model training with the use of downsampling algorithm\n",
    "features_downsampled, target_downsampled = downsample(features_train, target_train, 0.1)\n",
    "model_tree_classifier_downsample =  DecisionTreeClassifier(random_state=12345,class_weight='balanced', max_depth=7)\n",
    "model_tree_classifier_downsample.fit(features_downsampled,target_downsampled)\n",
    "\n",
    "# make a prediction the training set and calculate the class probability\n",
    "predicted_valid_tree_classifier_downsample = model_tree_classifier_downsample.predict(features_valid)\n",
    "probabilities_valid_tree_classifier_downsample = model_tree_classifier_downsample.predict_proba(features_valid)\n",
    "probabilities_one_valid_tree_classifier_downsample = probabilities_valid_tree_classifier_downsample[:, 1]\n",
    "\n",
    "# calculate the main metrics of the model\n",
    "print('F1:', f1_score(target_valid, predicted_valid_tree_classifier_downsample))\n",
    "print('AUC-ROC:',roc_auc_score(target_valid, probabilities_one_valid_tree_classifier_downsample))"
   ]
  },
  {
   "cell_type": "markdown",
   "id": "c3a15e8f",
   "metadata": {},
   "source": [
    "## The Random Forest Model"
   ]
  },
  {
   "cell_type": "code",
   "execution_count": 33,
   "id": "d0421b15",
   "metadata": {},
   "outputs": [
    {
     "name": "stdout",
     "output_type": "stream",
     "text": [
      "max_depth = 1 :0.8070368334249588\n",
      "max_depth = 2 :0.817482133040132\n",
      "max_depth = 3 :0.8273776800439802\n",
      "max_depth = 4 :0.8427707531610775\n",
      "max_depth = 5 :0.8548653106102254\n",
      "max_depth = 6 :0.862561847168774\n",
      "max_depth = 7 :0.8614623419461243\n",
      "max_depth = 8 :0.8642111050027488\n",
      "max_depth = 9 :0.8642111050027488\n",
      "\n",
      "n_estimators = 1 :0.7724024189114899\n",
      "n_estimators = 11 :0.8592633315008247\n",
      "n_estimators = 21 :0.8642111050027488\n",
      "n_estimators = 31 :0.8647608576140736\n",
      "n_estimators = 41 :0.8653106102253986\n",
      "n_estimators = 51 :0.8636613523914238\n",
      "n_estimators = 61 :0.8664101154480484\n",
      "n_estimators = 71 :0.8653106102253986\n",
      "n_estimators = 81 :0.8647608576140736\n",
      "n_estimators = 91 :0.8664101154480484\n",
      "n_estimators = 101 :0.8664101154480484\n",
      "n_estimators = 111 :0.8658603628367235\n",
      "n_estimators = 121 :0.8658603628367235\n",
      "n_estimators = 131 :0.8664101154480484\n",
      "n_estimators = 141 :0.863111599780099\n"
     ]
    }
   ],
   "source": [
    "# finding the optimal depth of the random forest model\n",
    "for depth in range(1,10):\n",
    "    model_tree_classifier = RandomForestClassifier(random_state=12345, max_depth=depth)\n",
    "    model_tree_classifier.fit(features_train, target_train)\n",
    "    print('max_depth =',depth, ':',end= '')\n",
    "    print(model_tree_classifier.score(features_valid,target_valid))\n",
    "print()\n",
    "\n",
    "# finding the optimal number of trees in a random forest model\n",
    "for estimators in range(1,150,10):\n",
    "    model_forest_classifier = RandomForestClassifier(random_state=12345, n_estimators=estimators)\n",
    "    model_forest_classifier.fit(features_train, target_train)\n",
    "    print('n_estimators =',estimators, ':',end= '')\n",
    "    print(model_forest_classifier.score(features_valid,target_valid))\n",
    "    "
   ]
  },
  {
   "cell_type": "code",
   "execution_count": 34,
   "id": "ecc73f53",
   "metadata": {},
   "outputs": [
    {
     "name": "stdout",
     "output_type": "stream",
     "text": [
      "Confusion Matrix for the Random Forest Model:\n",
      "[[1253  215]\n",
      " [ 114  237]]\n",
      "Recall : 0.6752136752136753\n",
      "Precision : 0.5243362831858407\n",
      "F1 : 0.5902864259028642\n",
      "AUC-ROC: 0.8518343852131317\n"
     ]
    },
    {
     "data": {
      "image/png": "[encoded data removed]",
      "text/plain": [
       "<Figure size 432x288 with 1 Axes>"
      ]
     },
     "metadata": {
      "needs_background": "light"
     },
     "output_type": "display_data"
    }
   ],
   "source": [
    "# training the model the Random Forest algorithm with class weight adjustment\n",
    "model_forest_classifier = RandomForestClassifier(random_state=12345, class_weight='balanced', n_estimators=60, max_depth=8,\n",
    "                                                 max_features = 12, min_samples_split=5, min_samples_leaf=5)\n",
    "model_forest_classifier.fit(features_train, target_train)\n",
    "\n",
    "# make a prediction the training set and calculate the class probability\n",
    "predicted_valid_forest_classifier = model_forest_classifier.predict(features_valid)\n",
    "probabilities_valid_forest_classifier = model_forest_classifier.predict_proba(features_valid)\n",
    "probabilities_one_valid_forest_classifier = probabilities_valid_forest_classifier[:, 1]\n",
    "\n",
    "# calculate the main metrics of the model\n",
    "print('Confusion Matrix for the Random Forest Model:')\n",
    "print(confusion_matrix(target_valid,predicted_valid_forest_classifier))\n",
    "print('Recall :', recall_score(target_valid,predicted_valid_forest_classifier))\n",
    "print('Precision :', precision_score(target_valid,predicted_valid_forest_classifier))\n",
    "print('F1 :', f1_score(target_valid,predicted_valid_forest_classifier))\n",
    "print('AUC-ROC:',roc_auc_score(target_valid, probabilities_one_valid_forest_classifier))\n",
    "\n",
    "# plot the metrics for the FPR, TPR variables and Thresholds values\n",
    "fpr, tpr, thresholds = roc_curve(target_valid, probabilities_one_valid_forest_classifier)\n",
    "plt.figure()\n",
    "plt.plot(fpr, tpr)\n",
    "# ROC curve for random model \n",
    "plt.plot([0, 1], [0, 1], linestyle='--')\n",
    "# set the boundary for the axes from 0 to 1 \n",
    "plt.xlim([0.0, 1.0])\n",
    "plt.ylim([0.0, 1.0])\n",
    "# to name the axes \"False Positive Rate\" and \"True Positive Rate\"\n",
    "plt.xlim([0.0, 1.0])\n",
    "plt.ylim([0.0, 1.0])\n",
    "plt.xlabel('False Positive Rate')\n",
    "plt.ylabel('True Positive Rate')\n",
    "# add the heading \"ROC curve\"\n",
    "plt.title('ROC curve')\n",
    "plt.show()"
   ]
  },
  {
   "cell_type": "code",
   "execution_count": 35,
   "id": "d0356da7",
   "metadata": {},
   "outputs": [
    {
     "name": "stdout",
     "output_type": "stream",
     "text": [
      "F1: 0.5938242280285035\n",
      "AUC-ROC: 0.8601776163084065\n"
     ]
    }
   ],
   "source": [
    "# model training with the use of upsampling algorithm\n",
    "features_upsampled, target_upsampled = upsample(features_train, target_train, 21)\n",
    "model_forest_classifier_upsample = RandomForestClassifier(random_state=12345, class_weight='balanced', n_estimators=60, max_depth=9)\n",
    "model_forest_classifier_upsample.fit(features_upsampled,target_upsampled)\n",
    "\n",
    "# make a prediction the training set and calculate the class probability\n",
    "predicted_valid_forest_classifier_upsample = model_forest_classifier_upsample.predict(features_valid)\n",
    "probabilities_valid_forest_classifier_upsample = model_forest_classifier_upsample.predict_proba(features_valid)\n",
    "probabilities_one_valid_forest_classifier_upsample = probabilities_valid_forest_classifier_upsample[:, 1]\n",
    "\n",
    "# calculate the main metrics of the model\n",
    "print('F1:', f1_score(target_valid, predicted_valid_forest_classifier_upsample))\n",
    "print('AUC-ROC:',roc_auc_score(target_valid, probabilities_one_valid_forest_classifier_upsample))"
   ]
  },
  {
   "cell_type": "code",
   "execution_count": 36,
   "id": "d6ab0f5b",
   "metadata": {},
   "outputs": [
    {
     "name": "stdout",
     "output_type": "stream",
     "text": [
      "F1: 0.5077452667814113\n",
      "AUC-ROC: 0.8407430696259034\n"
     ]
    }
   ],
   "source": [
    "# model training with the use of downsampling algorithm\n",
    "features_downsampled, target_downsampled = downsample(features_train, target_train, 0.1)\n",
    "model_forest_classifier_downsample =  RandomForestClassifier(random_state=12345, class_weight='balanced', n_estimators=60, max_depth=7)\n",
    "model_forest_classifier_downsample.fit(features_downsampled,target_downsampled)\n",
    "\n",
    "# make a prediction the training set and calculate the class probability\n",
    "predicted_valid_forest_classifier_downsample = model_forest_classifier_downsample.predict(features_valid)\n",
    "probabilities_valid_forest_classifier_downsample = model_forest_classifier_downsample.predict_proba(features_valid)\n",
    "probabilities_one_valid_forest_classifier_downsample = probabilities_valid_forest_classifier_downsample[:, 1]\n",
    "\n",
    "# calculate the main metrics of the model\n",
    "print('F1:', f1_score(target_valid, predicted_valid_forest_classifier_downsample))\n",
    "print('AUC-ROC:',roc_auc_score(target_valid, probabilities_one_valid_forest_classifier_downsample))"
   ]
  },
  {
   "cell_type": "markdown",
   "id": "d7e082d8",
   "metadata": {},
   "source": [
    "### Conclusion\n",
    "All supervised learning models, taking into account the imbalance of classes, were trained. Here, too, the best quality was obtained when learning the Random Forest algorithm. In general, I would recommend taking this model, but if we are interested in the maximum number of TPR values, then the best AUC-ROC score was obtained by the Random Forest algorithm with class imbalance correction by upsampling. Since we choose a model based on the best metrics F1 and AUC-ROC, I advise to take a Random Forest algorithm."
   ]
  },
  {
   "cell_type": "markdown",
   "id": "79526974",
   "metadata": {},
   "source": [
    "##  The final testing."
   ]
  },
  {
   "cell_type": "code",
   "execution_count": 37,
   "id": "c10c7b9b",
   "metadata": {},
   "outputs": [
    {
     "name": "stdout",
     "output_type": "stream",
     "text": [
      "Accuracy: 0.8476347634763476\n",
      "F1 : 0.6397919375812745\n",
      "AUC-ROC: 0.857231476078541\n"
     ]
    },
    {
     "data": {
      "image/png": "[encoded data removed]",
      "text/plain": [
       "<Figure size 432x432 with 1 Axes>"
      ]
     },
     "metadata": {
      "needs_background": "light"
     },
     "output_type": "display_data"
    },
    {
     "data": {
      "image/png": "[encoded data removed]",
      "text/plain": [
       "<Figure size 432x288 with 1 Axes>"
      ]
     },
     "metadata": {
      "needs_background": "light"
     },
     "output_type": "display_data"
    }
   ],
   "source": [
    "# train model and make a prediction the test set\n",
    "model = RandomForestClassifier(random_state=12345, class_weight='balanced', n_estimators=80, max_depth=10,\n",
    "                              max_features = 12, min_samples_split=5, min_samples_leaf=5)\n",
    "model.fit(features_train, target_train)\n",
    "\n",
    "# make a prediction the training set and calculate the class probability\n",
    "predictions_test = model.predict(features_test)\n",
    "probabilities_test = model.predict_proba(features_test)\n",
    "probabilities_one_test = probabilities_test[:, 1]\n",
    "\n",
    "# calculate the main metrics of the model\n",
    "print('Accuracy:',accuracy_score(target_test,predictions_test))\n",
    "print('F1 :', f1_score(target_test,predictions_test))\n",
    "print('AUC-ROC:',roc_auc_score(target_test, probabilities_one_test))\n",
    "\n",
    "# plot the metrics Precision, Recall, and Thresholds values\n",
    "precision, recall, thresholds = precision_recall_curve(target_test, probabilities_one_test)\n",
    "plt.figure(figsize=(6, 6))\n",
    "plt.step(recall, precision, where='post')\n",
    "plt.xlabel('Recall')\n",
    "plt.ylabel('Precision')\n",
    "plt.ylim([0.0, 1.05])\n",
    "plt.xlim([0.0, 1.0])\n",
    "plt.title('Precision-Recall Curve')\n",
    "\n",
    "# plot the metrics for the FPR, TPR variables and Thresholds values\n",
    "fpr, tpr, thresholds = roc_curve(target_test, probabilities_one_test)\n",
    "plt.figure()\n",
    "plt.plot(fpr, tpr)\n",
    "# ROC curve for random model \n",
    "plt.plot([0, 1], [0, 1], linestyle='--')\n",
    "# set the boundary for the axes from 0 to 1 \n",
    "plt.xlim([0.0, 1.0])\n",
    "plt.ylim([0.0, 1.0])\n",
    "# to name the axes \"False Positive Rate\" and \"True Positive Rate\"\n",
    "plt.xlim([0.0, 1.0])\n",
    "plt.ylim([0.0, 1.0])\n",
    "plt.xlabel('False Positive Rate')\n",
    "plt.ylabel('True Positive Rate')\n",
    "# add the heading \"ROC curve\"\n",
    "plt.title('ROC curve')\n",
    "plt.show() \n"
   ]
  },
  {
   "cell_type": "markdown",
   "id": "0b197186",
   "metadata": {},
   "source": [
    "### Conclusion\n",
    "The final testing of the model trained by the Random Forest algorithm, taking into account the imbalance of classes and the parameters of the depth of the tree - 10 and the number of trees - 80 showed F1 score - 0.64 and AUC-ROC - 0.86, which gave us a better result than on the training dataset, so I would recommend using this model to predict the behavior of bank clients."
   ]
  },
  {
   "cell_type": "markdown",
   "id": "a41df396",
   "metadata": {},
   "source": [
    "## General conclusion\n",
    "\n",
    "Based on the analysis we have come to the following conclusions:\n",
    "- There are no visible outliers in our data. We decided to keep the data as is and if necessary revisit this section after modeling.\n",
    "- Most clients are located in France and they are the most loyal to the bank among all countries, on average. The highest churn rate is in Germany. This features might be quite a good predictor for our model.\n",
    "- Most customers are in their 30s, the distribution is positively skewed as less elder than younger people have bank accounts. - Interestingly that the distribution of \"exited\" customers (in orange) is closer to normal than that of loyal clients.\n",
    "- Most clients are male. Female clients leave the bank more often.\n",
    "- We noticed that our target classes are imbalanced: there are more than twice as many observations when a client stayed with the bank than of those who left. As one way to correct it, we used the stratify parameter while splittig data into train and test sets. It makes a split so that the proportion of values in the sample produced will be the same as the proportion of values in the target variable.\n",
    "\n",
    "In the next step we have tried to correct imbalanced classes using 3 methods:\n",
    "1. class weight adjustment;\n",
    "2. upsampling;\n",
    "3. downsampling.\n",
    "\n",
    "We have also tuned each of the 3 chosen algorithms (Decision Tree, Random Forest and Logistic Regression) and searched for the best hyperparameters in order to select the best model.\n",
    "\n",
    "<b>Random Forest</b> model using Class Weight Adjustment method showed the highest score (62.33). Then we have retrained this model on the whole training set (including validation set) and tested it with the test set that our model didn't see before. We have reached 63.19% F1 score on the test set.\n",
    "\n",
    "Next, we have checked our model for sanity by comparing the final score to the baseline F1 score. The final F1 score of our model is much higher (28.82%) than the baseline F1 score that we would get if instead of classifying we simply predicted minority class target value for each new observation.\n",
    "\n",
    "Finally, we have calculated the <b>AUC-ROC</b> value and it turned out to be 86.66%, which means that our model's predictions are correct in more than 80% of cases. We have also plotted the ROC curve. It visualized well the fact that our final model is performing quite well - its ROC curve is much higher than the diagonal."
   ]
  }
 ],
 "metadata": {
  "ExecuteTimeLog": [
   {
    "duration": 1107,
    "start_time": "2022-02-02T03:07:29.146Z"
   },
   {
    "duration": 32,
    "start_time": "2022-02-02T03:07:30.255Z"
   },
   {
    "duration": 27,
    "start_time": "2022-02-02T03:07:30.290Z"
   },
   {
    "duration": 41,
    "start_time": "2022-02-02T03:07:30.319Z"
   },
   {
    "duration": 32,
    "start_time": "2022-02-02T03:07:30.361Z"
   },
   {
    "duration": 24,
    "start_time": "2022-02-02T03:07:30.395Z"
   },
   {
    "duration": 24,
    "start_time": "2022-02-02T03:07:30.421Z"
   },
   {
    "duration": 26,
    "start_time": "2022-02-02T03:07:30.446Z"
   },
   {
    "duration": 10,
    "start_time": "2022-02-02T03:07:30.474Z"
   },
   {
    "duration": 43,
    "start_time": "2022-02-02T03:07:30.486Z"
   },
   {
    "duration": 13,
    "start_time": "2022-02-02T03:07:30.531Z"
   },
   {
    "duration": 61,
    "start_time": "2022-02-02T03:07:30.546Z"
   },
   {
    "duration": 591,
    "start_time": "2022-02-02T03:07:30.609Z"
   },
   {
    "duration": 2278,
    "start_time": "2022-02-02T03:07:28.924Z"
   },
   {
    "duration": 2276,
    "start_time": "2022-02-02T03:07:28.927Z"
   },
   {
    "duration": 2275,
    "start_time": "2022-02-02T03:07:28.929Z"
   },
   {
    "duration": 2273,
    "start_time": "2022-02-02T03:07:28.932Z"
   },
   {
    "duration": 2271,
    "start_time": "2022-02-02T03:07:28.934Z"
   },
   {
    "duration": 2270,
    "start_time": "2022-02-02T03:07:28.936Z"
   },
   {
    "duration": 2270,
    "start_time": "2022-02-02T03:07:28.937Z"
   },
   {
    "duration": 2269,
    "start_time": "2022-02-02T03:07:28.939Z"
   },
   {
    "duration": 2268,
    "start_time": "2022-02-02T03:07:28.941Z"
   },
   {
    "duration": 2267,
    "start_time": "2022-02-02T03:07:28.943Z"
   },
   {
    "duration": 2267,
    "start_time": "2022-02-02T03:07:28.944Z"
   },
   {
    "duration": 2153,
    "start_time": "2022-02-02T03:07:29.059Z"
   },
   {
    "duration": 375,
    "start_time": "2022-02-02T03:12:37.310Z"
   },
   {
    "duration": 273,
    "start_time": "2022-02-02T03:15:35.371Z"
   },
   {
    "duration": 348,
    "start_time": "2022-02-02T03:16:05.723Z"
   },
   {
    "duration": 1253,
    "start_time": "2022-02-02T03:17:21.378Z"
   },
   {
    "duration": 30,
    "start_time": "2022-02-02T03:17:22.633Z"
   },
   {
    "duration": 20,
    "start_time": "2022-02-02T03:17:22.665Z"
   },
   {
    "duration": 4,
    "start_time": "2022-02-02T03:17:22.687Z"
   },
   {
    "duration": 8,
    "start_time": "2022-02-02T03:17:22.693Z"
   },
   {
    "duration": 17,
    "start_time": "2022-02-02T03:17:22.702Z"
   },
   {
    "duration": 11,
    "start_time": "2022-02-02T03:17:22.721Z"
   },
   {
    "duration": 8,
    "start_time": "2022-02-02T03:17:22.734Z"
   },
   {
    "duration": 11,
    "start_time": "2022-02-02T03:17:22.745Z"
   },
   {
    "duration": 37,
    "start_time": "2022-02-02T03:17:22.758Z"
   },
   {
    "duration": 28,
    "start_time": "2022-02-02T03:17:22.798Z"
   },
   {
    "duration": 42,
    "start_time": "2022-02-02T03:17:22.828Z"
   },
   {
    "duration": 400,
    "start_time": "2022-02-02T03:17:22.872Z"
   },
   {
    "duration": 191,
    "start_time": "2022-02-02T03:17:23.274Z"
   },
   {
    "duration": 482,
    "start_time": "2022-02-02T03:17:23.467Z"
   },
   {
    "duration": 518,
    "start_time": "2022-02-02T03:17:23.951Z"
   },
   {
    "duration": 2304,
    "start_time": "2022-02-02T03:17:22.166Z"
   },
   {
    "duration": 2303,
    "start_time": "2022-02-02T03:17:22.168Z"
   },
   {
    "duration": 2301,
    "start_time": "2022-02-02T03:17:22.171Z"
   },
   {
    "duration": 2301,
    "start_time": "2022-02-02T03:17:22.172Z"
   },
   {
    "duration": 2170,
    "start_time": "2022-02-02T03:17:22.304Z"
   },
   {
    "duration": 2164,
    "start_time": "2022-02-02T03:17:22.311Z"
   },
   {
    "duration": 2162,
    "start_time": "2022-02-02T03:17:22.314Z"
   },
   {
    "duration": 2162,
    "start_time": "2022-02-02T03:17:22.315Z"
   },
   {
    "duration": 2162,
    "start_time": "2022-02-02T03:17:22.316Z"
   },
   {
    "duration": 401,
    "start_time": "2022-02-02T03:19:15.018Z"
   },
   {
    "duration": 404,
    "start_time": "2022-02-02T03:22:16.476Z"
   },
   {
    "duration": 481,
    "start_time": "2022-02-02T03:23:12.297Z"
   },
   {
    "duration": 166,
    "start_time": "2022-02-02T03:23:23.061Z"
   },
   {
    "duration": 60,
    "start_time": "2022-02-02T03:23:26.367Z"
   },
   {
    "duration": 200,
    "start_time": "2022-02-02T03:23:30.282Z"
   },
   {
    "duration": 93,
    "start_time": "2022-02-02T03:23:42.498Z"
   },
   {
    "duration": 1165,
    "start_time": "2022-02-02T03:23:51.288Z"
   },
   {
    "duration": 31,
    "start_time": "2022-02-02T03:23:52.455Z"
   },
   {
    "duration": 22,
    "start_time": "2022-02-02T03:23:52.488Z"
   },
   {
    "duration": 9,
    "start_time": "2022-02-02T03:23:52.512Z"
   },
   {
    "duration": 12,
    "start_time": "2022-02-02T03:23:52.522Z"
   },
   {
    "duration": 6,
    "start_time": "2022-02-02T03:23:52.536Z"
   },
   {
    "duration": 7,
    "start_time": "2022-02-02T03:23:52.543Z"
   },
   {
    "duration": 7,
    "start_time": "2022-02-02T03:23:52.551Z"
   },
   {
    "duration": 6,
    "start_time": "2022-02-02T03:23:52.561Z"
   },
   {
    "duration": 51,
    "start_time": "2022-02-02T03:23:52.569Z"
   },
   {
    "duration": 13,
    "start_time": "2022-02-02T03:23:52.621Z"
   },
   {
    "duration": 39,
    "start_time": "2022-02-02T03:23:52.635Z"
   },
   {
    "duration": 382,
    "start_time": "2022-02-02T03:23:52.675Z"
   },
   {
    "duration": 182,
    "start_time": "2022-02-02T03:23:53.059Z"
   },
   {
    "duration": 481,
    "start_time": "2022-02-02T03:23:53.243Z"
   },
   {
    "duration": 424,
    "start_time": "2022-02-02T03:23:53.725Z"
   },
   {
    "duration": 104,
    "start_time": "2022-02-02T03:23:54.151Z"
   },
   {
    "duration": 202,
    "start_time": "2022-02-02T03:23:54.318Z"
   },
   {
    "duration": 290,
    "start_time": "2022-02-02T03:23:54.522Z"
   },
   {
    "duration": 88,
    "start_time": "2022-02-02T03:23:54.819Z"
   },
   {
    "duration": 26,
    "start_time": "2022-02-02T03:23:54.918Z"
   },
   {
    "duration": 733,
    "start_time": "2022-02-02T03:23:54.946Z"
   },
   {
    "duration": 1641,
    "start_time": "2022-02-02T03:23:55.681Z"
   },
   {
    "duration": 195,
    "start_time": "2022-02-02T03:23:57.323Z"
   },
   {
    "duration": 852,
    "start_time": "2022-02-02T03:23:57.520Z"
   },
   {
    "duration": 673,
    "start_time": "2022-02-02T03:27:30.285Z"
   },
   {
    "duration": 736,
    "start_time": "2022-02-02T03:27:37.963Z"
   },
   {
    "duration": 794,
    "start_time": "2022-02-02T03:27:49.222Z"
   },
   {
    "duration": 865,
    "start_time": "2022-02-02T03:27:59.778Z"
   },
   {
    "duration": 882,
    "start_time": "2022-02-02T03:28:12.604Z"
   },
   {
    "duration": 811,
    "start_time": "2022-02-02T03:28:20.873Z"
   },
   {
    "duration": 1128,
    "start_time": "2022-02-02T03:28:38.594Z"
   },
   {
    "duration": 31,
    "start_time": "2022-02-02T03:28:39.724Z"
   },
   {
    "duration": 20,
    "start_time": "2022-02-02T03:28:39.757Z"
   },
   {
    "duration": 4,
    "start_time": "2022-02-02T03:28:39.779Z"
   },
   {
    "duration": 7,
    "start_time": "2022-02-02T03:28:39.785Z"
   },
   {
    "duration": 8,
    "start_time": "2022-02-02T03:28:39.794Z"
   },
   {
    "duration": 7,
    "start_time": "2022-02-02T03:28:39.818Z"
   },
   {
    "duration": 8,
    "start_time": "2022-02-02T03:28:39.827Z"
   },
   {
    "duration": 8,
    "start_time": "2022-02-02T03:28:39.837Z"
   },
   {
    "duration": 33,
    "start_time": "2022-02-02T03:28:39.847Z"
   },
   {
    "duration": 12,
    "start_time": "2022-02-02T03:28:39.882Z"
   },
   {
    "duration": 57,
    "start_time": "2022-02-02T03:28:39.896Z"
   },
   {
    "duration": 407,
    "start_time": "2022-02-02T03:28:39.955Z"
   },
   {
    "duration": 237,
    "start_time": "2022-02-02T03:28:40.364Z"
   },
   {
    "duration": 498,
    "start_time": "2022-02-02T03:28:40.603Z"
   },
   {
    "duration": 465,
    "start_time": "2022-02-02T03:28:41.103Z"
   },
   {
    "duration": 156,
    "start_time": "2022-02-02T03:28:41.570Z"
   },
   {
    "duration": 293,
    "start_time": "2022-02-02T03:28:41.728Z"
   },
   {
    "duration": 279,
    "start_time": "2022-02-02T03:28:42.023Z"
   },
   {
    "duration": 99,
    "start_time": "2022-02-02T03:28:42.304Z"
   },
   {
    "duration": 38,
    "start_time": "2022-02-02T03:28:42.405Z"
   },
   {
    "duration": 798,
    "start_time": "2022-02-02T03:28:42.445Z"
   },
   {
    "duration": 1516,
    "start_time": "2022-02-02T03:28:43.246Z"
   },
   {
    "duration": 201,
    "start_time": "2022-02-02T03:28:44.764Z"
   },
   {
    "duration": 873,
    "start_time": "2022-02-02T03:28:44.967Z"
   },
   {
    "duration": 1789,
    "start_time": "2022-02-02T03:29:36.288Z"
   },
   {
    "duration": 1786,
    "start_time": "2022-02-02T03:30:01.077Z"
   },
   {
    "duration": 1055,
    "start_time": "2022-02-02T20:58:39.520Z"
   },
   {
    "duration": 30,
    "start_time": "2022-02-02T20:58:40.577Z"
   },
   {
    "duration": 20,
    "start_time": "2022-02-02T20:58:40.609Z"
   },
   {
    "duration": 4,
    "start_time": "2022-02-02T20:58:40.631Z"
   },
   {
    "duration": 7,
    "start_time": "2022-02-02T20:58:40.637Z"
   },
   {
    "duration": 5,
    "start_time": "2022-02-02T20:58:40.659Z"
   },
   {
    "duration": 15,
    "start_time": "2022-02-02T20:58:40.666Z"
   },
   {
    "duration": 10,
    "start_time": "2022-02-02T20:58:40.684Z"
   },
   {
    "duration": 6,
    "start_time": "2022-02-02T20:58:40.697Z"
   },
   {
    "duration": 32,
    "start_time": "2022-02-02T20:58:40.705Z"
   },
   {
    "duration": 14,
    "start_time": "2022-02-02T20:58:40.759Z"
   },
   {
    "duration": 38,
    "start_time": "2022-02-02T20:58:40.774Z"
   },
   {
    "duration": 411,
    "start_time": "2022-02-02T20:58:40.814Z"
   },
   {
    "duration": 187,
    "start_time": "2022-02-02T20:58:41.227Z"
   },
   {
    "duration": 252,
    "start_time": "2022-02-02T20:58:41.416Z"
   },
   {
    "duration": -1079,
    "start_time": "2022-02-02T20:58:42.749Z"
   },
   {
    "duration": -1081,
    "start_time": "2022-02-02T20:58:42.752Z"
   },
   {
    "duration": -1083,
    "start_time": "2022-02-02T20:58:42.754Z"
   },
   {
    "duration": -1084,
    "start_time": "2022-02-02T20:58:42.756Z"
   },
   {
    "duration": -1086,
    "start_time": "2022-02-02T20:58:42.759Z"
   },
   {
    "duration": -1087,
    "start_time": "2022-02-02T20:58:42.761Z"
   },
   {
    "duration": -1088,
    "start_time": "2022-02-02T20:58:42.763Z"
   },
   {
    "duration": -1089,
    "start_time": "2022-02-02T20:58:42.765Z"
   },
   {
    "duration": -1090,
    "start_time": "2022-02-02T20:58:42.767Z"
   },
   {
    "duration": -1092,
    "start_time": "2022-02-02T20:58:42.770Z"
   },
   {
    "duration": 178,
    "start_time": "2022-02-02T20:59:04.732Z"
   },
   {
    "duration": 514,
    "start_time": "2022-02-02T21:09:10.145Z"
   },
   {
    "duration": 431,
    "start_time": "2022-02-02T21:10:51.353Z"
   },
   {
    "duration": 363,
    "start_time": "2022-02-02T21:10:57.782Z"
   },
   {
    "duration": 591,
    "start_time": "2022-02-02T21:11:11.456Z"
   },
   {
    "duration": 1050,
    "start_time": "2022-02-02T21:11:25.545Z"
   },
   {
    "duration": 899,
    "start_time": "2022-02-02T21:11:39.438Z"
   },
   {
    "duration": 199,
    "start_time": "2022-02-02T21:11:48.532Z"
   },
   {
    "duration": 1006,
    "start_time": "2022-02-02T21:11:59.600Z"
   },
   {
    "duration": 981,
    "start_time": "2022-02-02T21:13:23.396Z"
   },
   {
    "duration": 951,
    "start_time": "2022-02-02T21:13:39.887Z"
   },
   {
    "duration": 940,
    "start_time": "2022-02-02T21:13:51.098Z"
   },
   {
    "duration": 956,
    "start_time": "2022-02-02T21:14:01.249Z"
   },
   {
    "duration": 941,
    "start_time": "2022-02-02T21:14:09.882Z"
   },
   {
    "duration": 920,
    "start_time": "2022-02-02T21:14:16.630Z"
   },
   {
    "duration": 926,
    "start_time": "2022-02-02T21:14:22.171Z"
   },
   {
    "duration": 841,
    "start_time": "2022-02-02T21:16:49.848Z"
   },
   {
    "duration": 951,
    "start_time": "2022-02-02T21:16:58.441Z"
   },
   {
    "duration": 902,
    "start_time": "2022-02-02T21:17:07.176Z"
   },
   {
    "duration": 876,
    "start_time": "2022-02-02T21:17:14.286Z"
   },
   {
    "duration": 895,
    "start_time": "2022-02-02T21:17:21.733Z"
   },
   {
    "duration": 1014,
    "start_time": "2022-02-02T21:17:30.383Z"
   },
   {
    "duration": 775,
    "start_time": "2022-02-02T21:19:17.836Z"
   },
   {
    "duration": 729,
    "start_time": "2022-02-02T21:19:29.132Z"
   },
   {
    "duration": 922,
    "start_time": "2022-02-02T21:19:36.122Z"
   },
   {
    "duration": 838,
    "start_time": "2022-02-02T21:19:41.471Z"
   },
   {
    "duration": 1791,
    "start_time": "2022-02-02T21:20:29.316Z"
   },
   {
    "duration": 63,
    "start_time": "2022-02-02T21:22:19.963Z"
   },
   {
    "duration": 1748,
    "start_time": "2022-02-02T21:22:26.966Z"
   },
   {
    "duration": 1225,
    "start_time": "2022-02-02T23:27:45.123Z"
   },
   {
    "duration": 34,
    "start_time": "2022-02-02T23:27:46.350Z"
   },
   {
    "duration": 23,
    "start_time": "2022-02-02T23:27:46.386Z"
   },
   {
    "duration": 5,
    "start_time": "2022-02-02T23:27:46.412Z"
   },
   {
    "duration": 27,
    "start_time": "2022-02-02T23:27:46.419Z"
   },
   {
    "duration": 29,
    "start_time": "2022-02-02T23:27:46.448Z"
   },
   {
    "duration": 27,
    "start_time": "2022-02-02T23:27:46.479Z"
   },
   {
    "duration": 22,
    "start_time": "2022-02-02T23:27:46.508Z"
   },
   {
    "duration": 22,
    "start_time": "2022-02-02T23:27:46.534Z"
   },
   {
    "duration": 48,
    "start_time": "2022-02-02T23:27:46.558Z"
   },
   {
    "duration": 15,
    "start_time": "2022-02-02T23:27:46.609Z"
   },
   {
    "duration": 61,
    "start_time": "2022-02-02T23:27:46.626Z"
   },
   {
    "duration": 405,
    "start_time": "2022-02-02T23:27:46.690Z"
   },
   {
    "duration": 250,
    "start_time": "2022-02-02T23:27:47.096Z"
   },
   {
    "duration": 908,
    "start_time": "2022-02-02T23:27:47.348Z"
   },
   {
    "duration": 4,
    "start_time": "2022-02-02T23:27:48.258Z"
   },
   {
    "duration": 10,
    "start_time": "2022-02-02T23:27:48.264Z"
   },
   {
    "duration": 411,
    "start_time": "2022-02-02T23:27:48.276Z"
   },
   {
    "duration": 128,
    "start_time": "2022-02-02T23:27:48.689Z"
   },
   {
    "duration": 128,
    "start_time": "2022-02-02T23:27:48.908Z"
   },
   {
    "duration": 308,
    "start_time": "2022-02-02T23:27:49.109Z"
   },
   {
    "duration": 111,
    "start_time": "2022-02-02T23:27:49.419Z"
   },
   {
    "duration": 26,
    "start_time": "2022-02-02T23:27:49.532Z"
   },
   {
    "duration": 4773,
    "start_time": "2022-02-02T23:27:49.560Z"
   },
   {
    "duration": 2650,
    "start_time": "2022-02-02T23:27:54.336Z"
   },
   {
    "duration": 2095,
    "start_time": "2022-02-02T23:27:56.988Z"
   },
   {
    "duration": 190,
    "start_time": "2022-02-02T23:27:59.086Z"
   },
   {
    "duration": 2016,
    "start_time": "2022-02-02T23:27:59.278Z"
   },
   {
    "duration": 1336,
    "start_time": "2022-02-02T23:31:13.233Z"
   },
   {
    "duration": 13723,
    "start_time": "2022-02-02T23:31:33.804Z"
   },
   {
    "duration": 1797,
    "start_time": "2022-02-02T23:32:27.354Z"
   },
   {
    "duration": 954,
    "start_time": "2022-02-02T23:52:39.963Z"
   },
   {
    "duration": 1929,
    "start_time": "2022-02-02T23:52:51.578Z"
   },
   {
    "duration": 1293,
    "start_time": "2022-02-03T00:10:28.294Z"
   },
   {
    "duration": 33,
    "start_time": "2022-02-03T00:10:29.589Z"
   },
   {
    "duration": 24,
    "start_time": "2022-02-03T00:10:29.625Z"
   },
   {
    "duration": 5,
    "start_time": "2022-02-03T00:10:29.651Z"
   },
   {
    "duration": 12,
    "start_time": "2022-02-03T00:10:29.658Z"
   },
   {
    "duration": 8,
    "start_time": "2022-02-03T00:10:29.672Z"
   },
   {
    "duration": 32,
    "start_time": "2022-02-03T00:10:29.682Z"
   },
   {
    "duration": 9,
    "start_time": "2022-02-03T00:10:29.716Z"
   },
   {
    "duration": 7,
    "start_time": "2022-02-03T00:10:29.728Z"
   },
   {
    "duration": 39,
    "start_time": "2022-02-03T00:10:29.738Z"
   },
   {
    "duration": 39,
    "start_time": "2022-02-03T00:10:29.779Z"
   },
   {
    "duration": 44,
    "start_time": "2022-02-03T00:10:29.820Z"
   },
   {
    "duration": 413,
    "start_time": "2022-02-03T00:10:29.866Z"
   },
   {
    "duration": 223,
    "start_time": "2022-02-03T00:10:30.280Z"
   },
   {
    "duration": 885,
    "start_time": "2022-02-03T00:10:30.508Z"
   },
   {
    "duration": 14,
    "start_time": "2022-02-03T00:10:31.395Z"
   },
   {
    "duration": 24,
    "start_time": "2022-02-03T00:10:31.411Z"
   },
   {
    "duration": 458,
    "start_time": "2022-02-03T00:10:31.437Z"
   },
   {
    "duration": 209,
    "start_time": "2022-02-03T00:10:31.898Z"
   },
   {
    "duration": 118,
    "start_time": "2022-02-03T00:10:32.110Z"
   },
   {
    "duration": 311,
    "start_time": "2022-02-03T00:10:32.310Z"
   },
   {
    "duration": 107,
    "start_time": "2022-02-03T00:10:32.622Z"
   },
   {
    "duration": 35,
    "start_time": "2022-02-03T00:10:32.731Z"
   },
   {
    "duration": 10315,
    "start_time": "2022-02-03T00:10:32.769Z"
   },
   {
    "duration": 1242,
    "start_time": "2022-02-03T00:10:43.086Z"
   },
   {
    "duration": 1184,
    "start_time": "2022-02-03T00:10:44.330Z"
   },
   {
    "duration": 186,
    "start_time": "2022-02-03T00:10:45.518Z"
   },
   {
    "duration": 2069,
    "start_time": "2022-02-03T00:10:45.708Z"
   },
   {
    "duration": 1238,
    "start_time": "2022-02-03T00:24:38.156Z"
   },
   {
    "duration": 33,
    "start_time": "2022-02-03T00:24:39.397Z"
   },
   {
    "duration": 25,
    "start_time": "2022-02-03T00:24:39.433Z"
   },
   {
    "duration": 6,
    "start_time": "2022-02-03T00:24:39.460Z"
   },
   {
    "duration": 15,
    "start_time": "2022-02-03T00:24:39.468Z"
   },
   {
    "duration": 28,
    "start_time": "2022-02-03T00:24:39.485Z"
   },
   {
    "duration": 14,
    "start_time": "2022-02-03T00:24:39.516Z"
   },
   {
    "duration": 8,
    "start_time": "2022-02-03T00:24:39.534Z"
   },
   {
    "duration": 9,
    "start_time": "2022-02-03T00:24:39.545Z"
   },
   {
    "duration": 52,
    "start_time": "2022-02-03T00:24:39.556Z"
   },
   {
    "duration": 16,
    "start_time": "2022-02-03T00:24:39.610Z"
   },
   {
    "duration": 50,
    "start_time": "2022-02-03T00:24:39.629Z"
   },
   {
    "duration": 417,
    "start_time": "2022-02-03T00:24:39.681Z"
   },
   {
    "duration": 218,
    "start_time": "2022-02-03T00:24:40.100Z"
   },
   {
    "duration": 923,
    "start_time": "2022-02-03T00:24:40.320Z"
   },
   {
    "duration": 5,
    "start_time": "2022-02-03T00:24:41.244Z"
   },
   {
    "duration": 15,
    "start_time": "2022-02-03T00:24:41.251Z"
   },
   {
    "duration": 424,
    "start_time": "2022-02-03T00:24:41.269Z"
   },
   {
    "duration": 123,
    "start_time": "2022-02-03T00:24:41.695Z"
   },
   {
    "duration": 199,
    "start_time": "2022-02-03T00:24:41.909Z"
   },
   {
    "duration": 306,
    "start_time": "2022-02-03T00:24:42.111Z"
   },
   {
    "duration": 109,
    "start_time": "2022-02-03T00:24:42.419Z"
   },
   {
    "duration": 25,
    "start_time": "2022-02-03T00:24:42.531Z"
   },
   {
    "duration": 9815,
    "start_time": "2022-02-03T00:24:42.558Z"
   },
   {
    "duration": 1217,
    "start_time": "2022-02-03T00:24:52.376Z"
   },
   {
    "duration": 1157,
    "start_time": "2022-02-03T00:24:53.595Z"
   },
   {
    "duration": 265,
    "start_time": "2022-02-03T00:24:54.754Z"
   },
   {
    "duration": 2543,
    "start_time": "2022-02-03T00:24:55.022Z"
   }
  ],
  "kernelspec": {
   "display_name": "Python 3",
   "language": "python",
   "name": "python3"
  },
  "language_info": {
   "codemirror_mode": {
    "name": "ipython",
    "version": 3
   },
   "file_extension": ".py",
   "mimetype": "text/x-python",
   "name": "python",
   "nbconvert_exporter": "python",
   "pygments_lexer": "ipython3",
   "version": "3.8.8"
  },
  "toc": {
   "base_numbering": 1,
   "nav_menu": {},
   "number_sections": true,
   "sideBar": true,
   "skip_h1_title": true,
   "title_cell": "Table of Contents",
   "title_sidebar": "Contents",
   "toc_cell": false,
   "toc_position": {},
   "toc_section_display": true,
   "toc_window_display": false
  }
 },
 "nbformat": 4,
 "nbformat_minor": 5
}
